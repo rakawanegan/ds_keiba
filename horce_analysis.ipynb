{
 "cells": [
  {
   "cell_type": "code",
   "execution_count": null,
   "metadata": {},
   "outputs": [],
   "source": [
    "import pandas as pd\n",
    "from glob import glob\n",
    "from os import path as osp"
   ]
  },
  {
   "cell_type": "code",
   "execution_count": null,
   "metadata": {},
   "outputs": [],
   "source": [
    "DICT_PLACE = {\n",
    "    '01': '札幌',\n",
    "    '02': '函館',\n",
    "    '03': '福島',\n",
    "    '04': '新潟',\n",
    "    '05': '東京',\n",
    "    '06': '中山',\n",
    "    '07': '中京',\n",
    "    '08': '京都',\n",
    "    '09': '阪神',\n",
    "    '10': '小倉',\n",
    "}\n",
    "\n",
    "def make_query_from_race_id(race_id: int) -> dict[str]:\n",
    "    race_id = str(race_id)\n",
    "    assert len(race_id) == 12, 'レースIDは12桁の文字列を入力してください。'\n",
    "    return {\n",
    "        'year': race_id[:4],\n",
    "        'place': DICT_PLACE[race_id[4:6]],\n",
    "        'round': race_id[6:8],\n",
    "        'num_day': race_id[8:10],\n",
    "        'num_race': race_id[10:12],\n",
    "    }"
   ]
  }
 ],
 "metadata": {
  "language_info": {
   "name": "python"
  }
 },
 "nbformat": 4,
 "nbformat_minor": 2
}
